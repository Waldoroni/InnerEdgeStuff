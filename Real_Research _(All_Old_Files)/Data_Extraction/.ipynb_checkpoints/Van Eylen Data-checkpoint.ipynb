{
 "cells": [
  {
   "cell_type": "code",
   "execution_count": null,
   "id": "10da3aac",
   "metadata": {},
   "outputs": [],
   "source": [
    "k10 = [0.83749026, 45.294292]\n",
    "k23_1 = [7.106995, 10.742434]\n",
    "k23_2 = [10,742434, 15.27429]\n",
    "k25 = [6.2385369, 12.7203678]\n",
    "k37_1 = [13.368, 21.3021]\n",
    "k37_2 = [21.3021, 39.792232]\n",
    "k65_1 = [2.1549156, 5.8599408]\n",
    "k65_2 = [5.8599408, 8.131231]\n",
    "k68 = [5.3987533, 9.604979]\n",
    "k92_1 = [13.748933, 26.72311]\n",
    "k92_2 = [26.72311, 49.3468]\n",
    "k100_1 = [6.887037, 12.815909]\n",
    "k100_2 = [12.815909, 35.33313]\n",
    "k103 = [15.965316, 179.6133]\n",
    "k107_1 = [3.18, 4.901441]\n",
    "k107_2 = [4.901441, 7.95825]\n",
    "k107_3 = [7.95825, 14.749176\n",
    "k108 = [49.18354, 190.3214]\n",
    "k109 = [6.4816370, 21.222620]\n",
    "k126_1 = [10.495634, 21.86964]\n",
    "k126_2 = [21.86964, 100.28208]\n",
    "k127_1 = [14.43577, 29.39344]\n",
    "k127_2 =  [29.39344, 48.62997]\n",
    "k129 = [15.791619, 82.1908]\n",
    "k130_1 = [8.45725, 27.508686]\n",
    "k130_2 = [27.508686, 87.5211]\n",
    "k145 = [22.95102, 42.88254]\n",
    "k197_1 = [5.599293, 10.349711]\n",
    "k197_2 = [10.349711, 15.67787]\n",
    "k197_3 = [15.67787, 25.2097]\n",
    "k278 = [30.15856, 51.0851]\n",
    "k338_1 = [9.34149, 13.72699]\n",
    "k338_2 = [13.72699, 24.31168]\n",
    "k338_3 =  [24.31168, 44.4287]\n",
    "k444_1 = [3.6, 4.545817]\n",
    "k444_2 = [4.545817, 6.189512]\n",
    "k444_3 = [6.189512, 7.74350]\n",
    "k444_4 = [7.74350,9.740529]\n",
    "k449 = [12.58242, 33.6727]\n",
    "k450_1 = [4.780327, 7.05174]\n",
    "k450_2 = [7.05174, 7.51464]\n",
    "k450_3 = [7.51464, 15.413135   ]\n",
    "k450_4 = [15.413135,28.454851 ]\n",
    "          \n"
   ]
  },
  {
   "cell_type": "code",
   "execution_count": 4,
   "id": "307f3b8a",
   "metadata": {},
   "outputs": [],
   "source": []
  },
  {
   "cell_type": "code",
   "execution_count": null,
   "id": "2e8de1a3",
   "metadata": {
    "scrolled": true
   },
   "outputs": [],
   "source": []
  },
  {
   "cell_type": "code",
   "execution_count": null,
   "id": "a943635e",
   "metadata": {},
   "outputs": [],
   "source": []
  },
  {
   "cell_type": "code",
   "execution_count": 33,
   "id": "a979bd3d",
   "metadata": {},
   "outputs": [],
   "source": []
  },
  {
   "cell_type": "code",
   "execution_count": null,
   "id": "9a2a008d",
   "metadata": {},
   "outputs": [],
   "source": []
  },
  {
   "cell_type": "code",
   "execution_count": null,
   "id": "f3fd805f",
   "metadata": {},
   "outputs": [],
   "source": []
  },
  {
   "cell_type": "code",
   "execution_count": null,
   "id": "3d6756b7",
   "metadata": {
    "scrolled": false
   },
   "outputs": [],
   "source": []
  },
  {
   "cell_type": "code",
   "execution_count": null,
   "id": "ce2f715b",
   "metadata": {},
   "outputs": [],
   "source": []
  },
  {
   "cell_type": "code",
   "execution_count": null,
   "id": "9b65bdfc",
   "metadata": {},
   "outputs": [],
   "source": []
  },
  {
   "cell_type": "code",
   "execution_count": null,
   "id": "23982ba2",
   "metadata": {},
   "outputs": [],
   "source": []
  },
  {
   "cell_type": "code",
   "execution_count": null,
   "id": "257d96e6",
   "metadata": {},
   "outputs": [],
   "source": []
  },
  {
   "cell_type": "code",
   "execution_count": null,
   "id": "02d7ff2b",
   "metadata": {},
   "outputs": [],
   "source": []
  },
  {
   "cell_type": "code",
   "execution_count": null,
   "id": "df8b874f",
   "metadata": {},
   "outputs": [],
   "source": []
  },
  {
   "cell_type": "code",
   "execution_count": null,
   "id": "cd5c00fe",
   "metadata": {},
   "outputs": [],
   "source": []
  }
 ],
 "metadata": {
  "kernelspec": {
   "display_name": "Python 3 (ipykernel)",
   "language": "python",
   "name": "python3"
  },
  "language_info": {
   "codemirror_mode": {
    "name": "ipython",
    "version": 3
   },
   "file_extension": ".py",
   "mimetype": "text/x-python",
   "name": "python",
   "nbconvert_exporter": "python",
   "pygments_lexer": "ipython3",
   "version": "3.10.6"
  }
 },
 "nbformat": 4,
 "nbformat_minor": 5
}
