{
 "cells": [
  {
   "cell_type": "code",
   "execution_count": null,
   "id": "1e4896a7",
   "metadata": {},
   "outputs": [],
   "source": [
    "import rebound\n",
    "import numpy as np\n",
    "import matplotlib.pyplot as plt\n",
    "%matplotlib inline\n",
    "from numpy.random import seed, random\n",
    "from scipy.stats import rayleigh\n",
    "from scipy.stats import norm\n",
    "#from spock import FeatureClassifier\n",
    "import itertools\n",
    "plt.style.use('paper')"
   ]
  },
  {
   "cell_type": "code",
   "execution_count": null,
   "id": "9c0adeab",
   "metadata": {},
   "outputs": [],
   "source": [
    "import pandas as pd\n",
    "pairs = pd.read_csv('../wide_of_resonance/exoarchive_planet_pairs.csv', index_col=0)"
   ]
  },
  {
   "cell_type": "code",
   "execution_count": null,
   "id": "afd4b4fc",
   "metadata": {},
   "outputs": [],
   "source": [
    "def sample_powerlaw(alpha, Mmin, Mmax):\n",
    "    ms = np.logspace(np.log10(Mmin), np.log10(Mmax), 1000)\n",
    "    pdf = ms**(alpha) # dN/dlogL \\propto L**-alpha\n",
    "    cumpdf = np.cumsum(pdf)/pdf.sum()\n",
    "    randv = np.random.uniform()\n",
    "    idx = np.searchsorted(cumpdf, randv)\n",
    "    return ms[idx]\n",
    "\n",
    "def sample_wu19(M0=2.3e-5, sigma=0.29):\n",
    "    logm = norm.rvs(loc=np.log10(M0), scale=sigma)\n",
    "    return 10**logm\n",
    "\n",
    "def makesim(Np = 4, escale=0.02, mmin=3e-5, mmax=1e-3, Pmax=1.5, alpha=-1):\n",
    "    m = sample_powerlaw(alpha, mmin, mmax)\n",
    "    P = random()*(Pmax-1)+1 # [1,2]\n",
    "    e = rayleigh.rvs(scale=escale)\n",
    "    if m > 1:\n",
    "        return makesim(Np, escale, mmin, mmax, Pmax, alpha)\n",
    "    if m < mmin:\n",
    "        return makesim(Np, escale, mmin, mmax, Pmax, alpha)\n",
    "    sim = rebound.Simulation()\n",
    "    sim.add(m=1.)\n",
    "    for i in range(Np):\n",
    "        sim.add(m=m, P=P**i, e=e, pomega=random()*2*np.pi, M=random()*2*np.pi)\n",
    "    sim.move_to_com()\n",
    "    return sim\n",
    "\n",
    "def makesim_wu19(Np = 3, mmin=1e-6, escale=0.02, M0=2.3e-5, sigma=0.29, Pmax=1.5):\n",
    "    m = sample_wu19(M0, sigma)\n",
    "    P = random()*(Pmax-1)+1 # [1,2]\n",
    "    e = rayleigh.rvs(scale=escale)\n",
    "    if m > 1:\n",
    "        return makesim_wu19(Np, mmin, escale, M0, sigma, Pmax)\n",
    "    if m < mmin:\n",
    "        return makesim_wu19(Np, mmin, escale, M0, sigma, Pmax)\n",
    "    sim = rebound.Simulation()\n",
    "    sim.add(m=1.)\n",
    "    for i in range(Np):\n",
    "        sim.add(m=m, P=P**i, e=e, pomega=random()*2*np.pi, M=random()*2*np.pi)\n",
    "    sim.move_to_com()\n",
    "    return sim"
   ]
  },
  {
   "cell_type": "code",
   "execution_count": null,
   "id": "ed15b923",
   "metadata": {},
   "outputs": [],
   "source": [
    "def run(M0, escale, Nsims=300):\n",
    "    seed(0)\n",
    "    sims = [makesim_wu19(escale=escale, M0=M0) for i in range(Nsims)]\n",
    "    Pratios = [sim.particles[2].P/sim.particles[1].P for sim in sims]\n",
    "    model = FeatureClassifier()\n",
    "    prob = model.predict_stable(sims)\n",
    "    return Pratios, prob"
   ]
  },
  {
   "cell_type": "code",
   "execution_count": null,
   "id": "cb3c0096",
   "metadata": {},
   "outputs": [],
   "source": [
    "pr, p = run(2.3e-5, 0.049, Nsims=2)"
   ]
  },
  {
   "cell_type": "code",
   "execution_count": null,
   "id": "ebb78eb3",
   "metadata": {},
   "outputs": [],
   "source": []
  },
  {
   "cell_type": "code",
   "execution_count": null,
   "id": "caf66de9",
   "metadata": {},
   "outputs": [],
   "source": []
  }
 ],
 "metadata": {
  "kernelspec": {
   "display_name": "Python 3 (ipykernel)",
   "language": "python",
   "name": "python3"
  },
  "language_info": {
   "codemirror_mode": {
    "name": "ipython",
    "version": 3
   },
   "file_extension": ".py",
   "mimetype": "text/x-python",
   "name": "python",
   "nbconvert_exporter": "python",
   "pygments_lexer": "ipython3",
   "version": "3.10.6"
  }
 },
 "nbformat": 4,
 "nbformat_minor": 5
}
