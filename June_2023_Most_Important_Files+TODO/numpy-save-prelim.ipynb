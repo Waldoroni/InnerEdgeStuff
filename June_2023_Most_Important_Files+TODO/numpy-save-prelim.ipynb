{
 "cells": [
  {
   "cell_type": "markdown",
   "id": "98fd415a",
   "metadata": {},
   "source": [
    "# numpy save preliminary .npy\n",
    "in this we will save relevant arrays needed for running the big simulation code"
   ]
  },
  {
   "cell_type": "code",
   "execution_count": 2,
   "id": "b38e591d",
   "metadata": {},
   "outputs": [],
   "source": [
    "#Variables to play with, eventually will be deprecated:\n",
    "bin_number = 30"
   ]
  },
  {
   "cell_type": "code",
   "execution_count": 3,
   "id": "86171481",
   "metadata": {},
   "outputs": [
    {
     "name": "stderr",
     "output_type": "stream",
     "text": [
      "/home/miniconda3/envs/kaichen/lib/python3.10/site-packages/torchvision/io/image.py:13: UserWarning: Failed to load image Python extension: /home/miniconda3/envs/kaichen/lib/python3.10/site-packages/torchvision/image.so: undefined symbol: _ZN2at4_ops19empty_memory_format4callEN3c108ArrayRefIlEENS2_8optionalINS2_10ScalarTypeEEENS5_INS2_6LayoutEEENS5_INS2_6DeviceEEENS5_IbEENS5_INS2_12MemoryFormatEEE\n",
      "  warn(f\"Failed to load image Python extension: {e}\")\n"
     ]
    },
    {
     "name": "stdout",
     "output_type": "stream",
     "text": [
      "[07:02:37] WARNING: /croot/xgboost-split_1675457761144/work/src/learner.cc:888: Found JSON model saved before XGBoost 1.6, please save the model using current version again. The support for old JSON model will be discontinued in XGBoost 2.3.\n"
     ]
    }
   ],
   "source": [
    "#Import Statements & Define Constants\n",
    "import numpy as np\n",
    "import matplotlib.pyplot as plt\n",
    "import scipy\n",
    "import scipy.stats as stats\n",
    "from scipy.stats import lognorm\n",
    "from scipy.stats import ks_2samp\n",
    "import math\n",
    "import rebound\n",
    "import random\n",
    "from numpy.random import seed, random\n",
    "from scipy.stats import rayleigh\n",
    "from scipy.stats import norm\n",
    "import itertools\n",
    "from spock import FeatureClassifier\n",
    "from decimal import Decimal\n",
    "import pandas as pd\n",
    "from tqdm import tqdm\n",
    "from matplotlib.ticker import EngFormatter\n",
    "from scipy.stats import gaussian_kde\n",
    "import matplotlib.pyplot as plt\n",
    "import seaborn as sns\n",
    "\n",
    "\n",
    "%matplotlib inline\n",
    "\n",
    "fmodel = FeatureClassifier()\n",
    "earth_mass = 5.97219*10**24\n",
    "sun_mass = 1.981 * 10**30\n",
    "mass_ratio = earth_mass/sun_mass"
   ]
  },
  {
   "cell_type": "markdown",
   "id": "436f916e",
   "metadata": {},
   "source": [
    "# Load NASA Exoplanet Archive data needed\n",
    "Use archive to find planets that have compact inner period ratios"
   ]
  },
  {
   "cell_type": "code",
   "execution_count": 4,
   "id": "89fa94ef",
   "metadata": {},
   "outputs": [
    {
     "data": {
      "text/html": [
       "<div>\n",
       "<style scoped>\n",
       "    .dataframe tbody tr th:only-of-type {\n",
       "        vertical-align: middle;\n",
       "    }\n",
       "\n",
       "    .dataframe tbody tr th {\n",
       "        vertical-align: top;\n",
       "    }\n",
       "\n",
       "    .dataframe thead th {\n",
       "        text-align: right;\n",
       "    }\n",
       "</style>\n",
       "<table border=\"1\" class=\"dataframe\">\n",
       "  <thead>\n",
       "    <tr style=\"text-align: right;\">\n",
       "      <th></th>\n",
       "      <th>Planet Name</th>\n",
       "      <th>Host Name</th>\n",
       "      <th>Orbital Period</th>\n",
       "      <th>Discovery Method</th>\n",
       "      <th>Semi-Major Axis (AU)</th>\n",
       "      <th>Eccentricity</th>\n",
       "      <th>Radius (R_earth)</th>\n",
       "      <th>Mass or Mass * sin(i) (M_earth)</th>\n",
       "      <th>Stellar Mass (M_sun)</th>\n",
       "    </tr>\n",
       "  </thead>\n",
       "  <tbody>\n",
       "    <tr>\n",
       "      <th>119</th>\n",
       "      <td>DMPP-1 b</td>\n",
       "      <td>DMPP-1</td>\n",
       "      <td>18.570</td>\n",
       "      <td>Radial Velocity</td>\n",
       "      <td>0.1462</td>\n",
       "      <td>0.083</td>\n",
       "      <td>5.29</td>\n",
       "      <td>24.27</td>\n",
       "      <td>1.21</td>\n",
       "    </tr>\n",
       "    <tr>\n",
       "      <th>120</th>\n",
       "      <td>DMPP-1 c</td>\n",
       "      <td>DMPP-1</td>\n",
       "      <td>6.584</td>\n",
       "      <td>Radial Velocity</td>\n",
       "      <td>0.0733</td>\n",
       "      <td>0.057</td>\n",
       "      <td>3.06</td>\n",
       "      <td>9.60</td>\n",
       "      <td>1.21</td>\n",
       "    </tr>\n",
       "    <tr>\n",
       "      <th>122</th>\n",
       "      <td>DMPP-1 e</td>\n",
       "      <td>DMPP-1</td>\n",
       "      <td>5.516</td>\n",
       "      <td>Radial Velocity</td>\n",
       "      <td>0.0651</td>\n",
       "      <td>0.070</td>\n",
       "      <td>1.86</td>\n",
       "      <td>4.13</td>\n",
       "      <td>1.21</td>\n",
       "    </tr>\n",
       "    <tr>\n",
       "      <th>194</th>\n",
       "      <td>GJ 180 b</td>\n",
       "      <td>GJ 180</td>\n",
       "      <td>17.133</td>\n",
       "      <td>Radial Velocity</td>\n",
       "      <td>0.0920</td>\n",
       "      <td>0.070</td>\n",
       "      <td>2.43</td>\n",
       "      <td>6.49</td>\n",
       "      <td>0.43</td>\n",
       "    </tr>\n",
       "    <tr>\n",
       "      <th>195</th>\n",
       "      <td>GJ 180 c</td>\n",
       "      <td>GJ 180</td>\n",
       "      <td>24.329</td>\n",
       "      <td>Radial Velocity</td>\n",
       "      <td>0.1290</td>\n",
       "      <td>0.090</td>\n",
       "      <td>2.41</td>\n",
       "      <td>6.40</td>\n",
       "      <td>0.43</td>\n",
       "    </tr>\n",
       "  </tbody>\n",
       "</table>\n",
       "</div>"
      ],
      "text/plain": [
       "    Planet Name Host Name  Orbital Period Discovery Method  \\\n",
       "119    DMPP-1 b    DMPP-1          18.570  Radial Velocity   \n",
       "120    DMPP-1 c    DMPP-1           6.584  Radial Velocity   \n",
       "122    DMPP-1 e    DMPP-1           5.516  Radial Velocity   \n",
       "194    GJ 180 b    GJ 180          17.133  Radial Velocity   \n",
       "195    GJ 180 c    GJ 180          24.329  Radial Velocity   \n",
       "\n",
       "     Semi-Major Axis (AU)  Eccentricity  Radius (R_earth)  \\\n",
       "119                0.1462         0.083              5.29   \n",
       "120                0.0733         0.057              3.06   \n",
       "122                0.0651         0.070              1.86   \n",
       "194                0.0920         0.070              2.43   \n",
       "195                0.1290         0.090              2.41   \n",
       "\n",
       "     Mass or Mass * sin(i) (M_earth)  Stellar Mass (M_sun)  \n",
       "119                            24.27                  1.21  \n",
       "120                             9.60                  1.21  \n",
       "122                             4.13                  1.21  \n",
       "194                             6.49                  0.43  \n",
       "195                             6.40                  0.43  "
      ]
     },
     "execution_count": 4,
     "metadata": {},
     "output_type": "execute_result"
    }
   ],
   "source": [
    "# load data of planets that have inner period ratio 1.1-1.5\n",
    "df = pd.read_csv(\"compact_planet_data.csv\", index_col=0)\n",
    "df.head()"
   ]
  },
  {
   "cell_type": "markdown",
   "id": "3689b752",
   "metadata": {},
   "source": [
    "# Save observed period ratios that are 1.1-1.5\n",
    "array of period ratios"
   ]
  },
  {
   "cell_type": "code",
   "execution_count": 5,
   "id": "43b1f26c",
   "metadata": {},
   "outputs": [],
   "source": [
    "# save only compact pratios \n",
    "pratios_observed = []\n",
    "\n",
    "# for every system in the dataframe with only planets with inner pratio 1.1-1.5\n",
    "for system in df['Host Name'].unique():\n",
    "    # make new df of just that system's planets\n",
    "    system_df = df[df['Host Name'] == system]\n",
    "    # sort least to greatest orbital period\n",
    "    system_sorted = system_df.sort_values(by='Orbital Period')\n",
    "    Nplanets = system_df.shape[0] # number of planets in system\n",
    "    \n",
    "    # for every planet pair\n",
    "    for z in range(Nplanets-1):\n",
    "        # find periods\n",
    "        P1 = system_sorted.iloc[z]['Orbital Period']\n",
    "        P2 = system_sorted.iloc[z+1]['Orbital Period']\n",
    "        # if the pratio is compact, add it to array\n",
    "        if P2/P1 > 1.1 and P2/P1 < 1.5:\n",
    "            pratios_observed.append(P2/P1)"
   ]
  },
  {
   "cell_type": "code",
   "execution_count": 6,
   "id": "4fb66a6d",
   "metadata": {},
   "outputs": [
    {
     "data": {
      "text/latex": [
       "$\\displaystyle 71$"
      ],
      "text/plain": [
       "71"
      ]
     },
     "execution_count": 6,
     "metadata": {},
     "output_type": "execute_result"
    }
   ],
   "source": [
    "# all period ratios within df that are 1.1 - 1.5, used for CDF\n",
    "pratios_observed = np.asarray(pratios_observed)\n",
    "pratios_observed.sort()\n",
    "observed_period_cdf = np.cumsum(pratios_observed)/pratios_observed.sum()\n",
    "len(pratios_observed)"
   ]
  },
  {
   "cell_type": "code",
   "execution_count": 7,
   "id": "067cd53b",
   "metadata": {},
   "outputs": [],
   "source": [
    "np.save('observed_period_cdf', observed_period_cdf)"
   ]
  },
  {
   "cell_type": "code",
   "execution_count": 8,
   "id": "4ef73481",
   "metadata": {},
   "outputs": [
    {
     "data": {
      "text/plain": [
       "array([1.1747799 , 1.19361856, 1.24417625, 1.25027336, 1.25109106,\n",
       "       1.25789305, 1.26025515, 1.26270865, 1.26399713, 1.26431296,\n",
       "       1.27637229, 1.27928855, 1.290854  , 1.29105027, 1.30096463,\n",
       "       1.30784238, 1.33328639, 1.33406214, 1.33627126, 1.337521  ,\n",
       "       1.34155768, 1.34196578, 1.3474565 , 1.35038696, 1.3538943 ,\n",
       "       1.35741159, 1.35866415, 1.36153757, 1.3661322 , 1.36987246,\n",
       "       1.37068514, 1.38194556, 1.38283711, 1.38685146, 1.38759517,\n",
       "       1.39140811, 1.39985744, 1.4027205 , 1.40388468, 1.40520358,\n",
       "       1.40771659, 1.4081327 , 1.41063722, 1.41166672, 1.41193039,\n",
       "       1.42000817, 1.42600848, 1.43156957, 1.43959088, 1.44760052,\n",
       "       1.45262456, 1.45443877, 1.45654853, 1.45822197, 1.45904324,\n",
       "       1.45960959, 1.45993393, 1.45999146, 1.46063336, 1.46480102,\n",
       "       1.46673817, 1.46954031, 1.47639239, 1.47797058, 1.47917006,\n",
       "       1.48056441, 1.48311202, 1.48377863, 1.49087292, 1.49194568,\n",
       "       1.49953988])"
      ]
     },
     "execution_count": 8,
     "metadata": {},
     "output_type": "execute_result"
    }
   ],
   "source": [
    "pratios_observed"
   ]
  },
  {
   "cell_type": "code",
   "execution_count": 9,
   "id": "c5035983",
   "metadata": {},
   "outputs": [],
   "source": [
    "np.save('pratios_observed', pratios_observed)"
   ]
  },
  {
   "cell_type": "code",
   "execution_count": 10,
   "id": "9e5090b1",
   "metadata": {},
   "outputs": [
    {
     "data": {
      "text/plain": [
       "array([1.1747799 , 1.19361856, 1.24417625, 1.25027336, 1.25109106,\n",
       "       1.25789305, 1.26025515, 1.26270865, 1.26399713, 1.26431296,\n",
       "       1.27637229, 1.27928855, 1.290854  , 1.29105027, 1.30096463,\n",
       "       1.30784238, 1.33328639, 1.33406214, 1.33627126, 1.337521  ,\n",
       "       1.34155768, 1.34196578, 1.3474565 , 1.35038696, 1.3538943 ,\n",
       "       1.35741159, 1.35866415, 1.36153757, 1.3661322 , 1.36987246,\n",
       "       1.37068514, 1.38194556, 1.38283711, 1.38685146, 1.38759517,\n",
       "       1.39140811, 1.39985744, 1.4027205 , 1.40388468, 1.40520358,\n",
       "       1.40771659, 1.4081327 , 1.41063722, 1.41166672, 1.41193039,\n",
       "       1.42000817, 1.42600848, 1.43156957, 1.43959088, 1.44760052,\n",
       "       1.45262456, 1.45443877, 1.45654853, 1.45822197, 1.45904324,\n",
       "       1.45960959, 1.45993393, 1.45999146, 1.46063336, 1.46480102,\n",
       "       1.46673817, 1.46954031, 1.47639239, 1.47797058, 1.47917006,\n",
       "       1.48056441, 1.48311202, 1.48377863, 1.49087292, 1.49194568,\n",
       "       1.49953988])"
      ]
     },
     "execution_count": 10,
     "metadata": {},
     "output_type": "execute_result"
    }
   ],
   "source": [
    "pratios_observed = np.load('pratios_observed.npy')\n",
    "pratios_observed"
   ]
  },
  {
   "cell_type": "markdown",
   "id": "278fba57",
   "metadata": {},
   "source": [
    "# Dispersion for observed systems\n",
    "D = 0.302449556680029\n",
    "\n",
    "error = 0.0180067880312394)"
   ]
  },
  {
   "cell_type": "markdown",
   "id": "691f18ed",
   "metadata": {},
   "source": [
    "# Calculate and save kdes"
   ]
  },
  {
   "cell_type": "code",
   "execution_count": 11,
   "id": "9a982e51",
   "metadata": {},
   "outputs": [
    {
     "name": "stdout",
     "output_type": "stream",
     "text": [
      "<class 'numpy.ndarray'>\n"
     ]
    },
    {
     "data": {
      "image/png": "[encoded data removed]",
      "text/plain": [
       "<Figure size 640x480 with 1 Axes>"
      ]
     },
     "metadata": {},
     "output_type": "display_data"
    }
   ],
   "source": [
    "# plt.rcParams.update({\n",
    "#     \"text.usetex\": True,\n",
    "#     \"font.family\": \"Helvetica\"\n",
    "# })\n",
    "#eccentricities after spock\n",
    "# Initialize the population eccentricites from observered eccentricities: e_list\n",
    "# Load the data\n",
    "eccentricity = df['Eccentricity'].to_numpy()\n",
    "\n",
    "# Remove NaN and infinite values from the array\n",
    "eccentricity = eccentricity[~np.isnan(eccentricity)]\n",
    "eccentricity = eccentricity[eccentricity != 0]\n",
    "eccentricity = eccentricity[np.isfinite(eccentricity)]\n",
    "\n",
    "# Fit a KDE to the data\n",
    "kde_e = gaussian_kde(eccentricity)\n",
    "\n",
    "# Generate 10000 samples from the KDE\n",
    "e_list = kde_e.resample(size=150000)[0] #change eccentricity to be half of kde see how much change\n",
    "\n",
    "print(type(e_list))\n",
    "\n",
    "\n",
    "# Create a histogram of the original data\n",
    "n, bins_e, patches = plt.hist(eccentricity, bins=np.linspace(0, 0.4, 40), histtype='step', density=True, label = 'Observed')\n",
    "\n",
    "# Plot the kernel density curve of the original data\n",
    "x_grid_e = np.linspace(0, 0.4, 200)\n",
    "plt.plot(x_grid_e, kde_e(x_grid_e), label='Observed KDE')\n",
    "\n",
    "# Create a histogram of the new samples\n",
    "n_new, bins_new, patches_new = plt.hist(e_list, bins=bins_e, histtype='step', density=True, label = 'Population')\n",
    "\n",
    "# Plot the kernel density curve of the new samples\n",
    "kde_new_e = gaussian_kde(e_list)\n",
    "plt.plot(x_grid_e, kde_new_e(x_grid_e), label='Population KDE')\n",
    "e_list = e_list[e_list > 0]\n",
    "\n",
    "# Set plot title, labels, and legend\n",
    "# plt.title(\"Observed vs. Simulated Population's Eccentricity Distribution via KDE Estimation\")\n",
    "plt.xlabel(\"Eccentricity\", fontsize=20)\n",
    "plt.ylabel(\"Relative Occurance\", fontsize=20)\n",
    "plt.xticks(fontsize=15)\n",
    "plt.yticks(fontsize=15)\n",
    "plt.legend()\n",
    "\n",
    "# Show the plot\n",
    "plt.show()\n",
    "# np.save('e_list', e_list)"
   ]
  },
  {
   "cell_type": "code",
   "execution_count": 22,
   "id": "826e7258",
   "metadata": {},
   "outputs": [
    {
     "name": "stdout",
     "output_type": "stream",
     "text": [
      "<class 'numpy.ndarray'>\n"
     ]
    },
    {
     "data": {
      "image/png": "[encoded data removed]",
      "text/plain": [
       "<Figure size 640x480 with 1 Axes>"
      ]
     },
     "metadata": {},
     "output_type": "display_data"
    }
   ],
   "source": [
    "#masses after spock\n",
    "\n",
    "# Initialize the population masses from observered masses: m_list\n",
    "# Load the data\n",
    "mass = df['Mass or Mass * sin(i) (M_earth)'].to_numpy()\n",
    "\n",
    "# Remove NaN and infinite values from the array\n",
    "mass = mass[~np.isnan(mass)]\n",
    "mass = mass[mass != 0]\n",
    "mass = mass[np.isfinite(mass)]\n",
    "mass = mass[mass < 25]\n",
    "\n",
    "# Fit a KDE to the data\n",
    "kde = gaussian_kde(mass)\n",
    "\n",
    "# Generate 10000 samples from the KDE\n",
    "m_list = kde.resample(size=150000)[0]\n",
    "print(type(m_list))\n",
    "\n",
    "\n",
    "# Create a histogram of the original data\n",
    "n, bins, patches = plt.hist(mass, bins=np.linspace(0, 25, 40), histtype='step', density=True, label = 'Observed')\n",
    "\n",
    "# Plot the kernel density curve of the original data\n",
    "x_grid = np.linspace(0, 25, 40)\n",
    "plt.plot(x_grid, kde(x_grid), label='Observed KDE')\n",
    "\n",
    "# Create a histogram of the new samples\n",
    "n_new, bins_new, patches_new = plt.hist(m_list, bins=bins, histtype='step', density=True, label = 'Population')\n",
    "\n",
    "# Plot the kernel density curve of the new samples\n",
    "kde_new = gaussian_kde(m_list)\n",
    "plt.plot(x_grid, kde_new(x_grid), label='Population KDE')\n",
    "m_list = m_list[m_list > 0]\n",
    "\n",
    "# Set plot title, labels, and legend\n",
    "# plt.title(\"Observed vs. Simulated Population's Mass Distribution via KDE Estimation\")\n",
    "plt.xlabel(r\"Mass (M$_\\oplus$)\", fontsize=20)\n",
    "plt.ylabel(\"Relative Occurance\", fontsize=20)\n",
    "plt.xticks(fontsize=15)\n",
    "plt.yticks(fontsize=15)\n",
    "plt.legend()\n",
    "\n",
    "\n",
    "# Show the plot\n",
    "plt.show()\n",
    "# np.save('m_list', m_list)"
   ]
  },
  {
   "cell_type": "code",
   "execution_count": 13,
   "id": "260c0dc9",
   "metadata": {},
   "outputs": [],
   "source": [
    "#kde_changing = [.5,.6,.7,.8,.9,1,1.1,1.2,1.3,1.4,1.5] # used for multiplying e and m list to test sensitivity\n"
   ]
  },
  {
   "cell_type": "code",
   "execution_count": 14,
   "id": "656059c4",
   "metadata": {},
   "outputs": [],
   "source": [
    "kde_changing = np.logspace(np.log10(.5), np.log10(2), 11)"
   ]
  },
  {
   "cell_type": "code",
   "execution_count": 15,
   "id": "0c72ea5a",
   "metadata": {},
   "outputs": [],
   "source": [
    "kde_changing = np.save('kde_changing', kde_changing)"
   ]
  },
  {
   "cell_type": "code",
   "execution_count": 16,
   "id": "d3b76c4b",
   "metadata": {},
   "outputs": [],
   "source": [
    "spock_p_values, spock_p_base = np.histogram([1,2,3], bins=np.linspace(1.1, 1.51, 30)) \n",
    "# random list, doesn't matter for saving spock_p_base"
   ]
  },
  {
   "cell_type": "code",
   "execution_count": 17,
   "id": "e69aee6a",
   "metadata": {},
   "outputs": [
    {
     "data": {
      "text/plain": [
       "array([1.1       , 1.11413793, 1.12827586, 1.14241379, 1.15655172,\n",
       "       1.17068966, 1.18482759, 1.19896552, 1.21310345, 1.22724138,\n",
       "       1.24137931, 1.25551724, 1.26965517, 1.2837931 , 1.29793103,\n",
       "       1.31206897, 1.3262069 , 1.34034483, 1.35448276, 1.36862069,\n",
       "       1.38275862, 1.39689655, 1.41103448, 1.42517241, 1.43931034,\n",
       "       1.45344828, 1.46758621, 1.48172414, 1.49586207, 1.51      ])"
      ]
     },
     "execution_count": 17,
     "metadata": {},
     "output_type": "execute_result"
    }
   ],
   "source": [
    "spock_p_base"
   ]
  },
  {
   "cell_type": "code",
   "execution_count": 18,
   "id": "f41b291a",
   "metadata": {},
   "outputs": [],
   "source": [
    "np.save('spock_p_base', spock_p_base)"
   ]
  },
  {
   "cell_type": "code",
   "execution_count": 19,
   "id": "ef3f10af",
   "metadata": {},
   "outputs": [
    {
     "data": {
      "text/plain": [
       "array([1.5       , 1.72304753, 1.97926187, 2.27357485, 2.61165169,\n",
       "       3.        , 3.44609506, 3.95852373, 4.5471497 , 5.22330338,\n",
       "       6.        ])"
      ]
     },
     "execution_count": 19,
     "metadata": {},
     "output_type": "execute_result"
    }
   ],
   "source": [
    "stdev_changing = np.logspace(np.log10(3/2), np.log10(6), 11)\n",
    "stdev_changing"
   ]
  },
  {
   "cell_type": "code",
   "execution_count": 9,
   "id": "05a8cdf2",
   "metadata": {},
   "outputs": [],
   "source": [
    "np.save('stdev_changing', stdev_changing)"
   ]
  },
  {
   "cell_type": "code",
   "execution_count": null,
   "id": "3f9a7059",
   "metadata": {},
   "outputs": [],
   "source": []
  }
 ],
 "metadata": {
  "kernelspec": {
   "display_name": "Python 3 (ipykernel)",
   "language": "python",
   "name": "python3"
  },
  "language_info": {
   "codemirror_mode": {
    "name": "ipython",
    "version": 3
   },
   "file_extension": ".py",
   "mimetype": "text/x-python",
   "name": "python",
   "nbconvert_exporter": "python",
   "pygments_lexer": "ipython3",
   "version": "3.10.11"
  }
 },
 "nbformat": 4,
 "nbformat_minor": 5
}
