{
 "cells": [
  {
   "cell_type": "code",
   "execution_count": 1,
   "id": "e854e3b8",
   "metadata": {},
   "outputs": [
    {
     "name": "stderr",
     "output_type": "stream",
     "text": [
      "/home/miniconda3/envs/kaichen/lib/python3.10/site-packages/torchvision/io/image.py:13: UserWarning: Failed to load image Python extension: /home/miniconda3/envs/kaichen/lib/python3.10/site-packages/torchvision/image.so: undefined symbol: _ZN2at4_ops19empty_memory_format4callEN3c108ArrayRefIlEENS2_8optionalINS2_10ScalarTypeEEENS5_INS2_6LayoutEEENS5_INS2_6DeviceEEENS5_IbEENS5_INS2_12MemoryFormatEEE\n",
      "  warn(f\"Failed to load image Python extension: {e}\")\n"
     ]
    }
   ],
   "source": [
    "import dispersion\n",
    "import pandas as pd\n",
    "import numpy as np\n",
    "df = pd.read_csv('compact_planet_data.csv', index_col=0)"
   ]
  },
  {
   "cell_type": "code",
   "execution_count": 2,
   "id": "ee1b9ca4",
   "metadata": {},
   "outputs": [
    {
     "data": {
      "text/plain": [
       "[array([ 5.516,  6.584, 18.57 ]),\n",
       " array([ 17.133,  24.329, 106.3  ]),\n",
       " array([28.14 , 39.026, 62.24 ]),\n",
       " array([14.175685, 19.590025, 29.54115 ]),\n",
       " array([ 28.579743,  38.353037, 101.12    ]),\n",
       " array([ 5.75999,  7.28243, 10.86499, 25.1967 ]),\n",
       " array([12.1621839, 17.667087 , 29.79749  ]),\n",
       " array([ 5.24 ,  7.775, 10.115]),\n",
       " array([4.528598, 6.131243, 9.327527]),\n",
       " array([ 7.138048, 10.45582 , 14.76289 ]),\n",
       " array([ 4.44117,  6.42904, 14.09189]),\n",
       " array([ 6.679582,  9.715043, 13.62749 ]),\n",
       " array([ 5.577212,  7.760178, 15.189034]),\n",
       " array([0.2197 , 0.32528, 0.81161]),\n",
       " array([  7.008151,   8.719375,  14.44912 ,  91.93913 , 124.9144  ,\n",
       "        210.60697 ]),\n",
       " array([ 5.28696,  7.07142, 10.3117 , 16.1457 ]),\n",
       " array([ 10.3039,  13.0241,  22.6845,  31.9996,  46.6888, 118.3807]),\n",
       " array([3.26663995, 4.27225018, 5.45298175]),\n",
       " array([10.3134, 13.7815, 23.0923]),\n",
       " array([2.89223021, 3.95116882, 5.10115756, 5.99273738]),\n",
       " array([ 6.195469,  8.348125, 13.767102]),\n",
       " array([ 7.466623, 11.131786, 16.259458]),\n",
       " array([3.88689525, 5.374943  , 8.586004  ]),\n",
       " array([ 7.38449,  9.84564, 14.78869]),\n",
       " array([3.940997, 5.349555, 8.109044]),\n",
       " array([12.28    , 17.2559  , 46.827915]),\n",
       " array([ 5.24972541,  7.41086267, 10.43547805]),\n",
       " array([ 9.220524, 13.638723, 24.806   ]),\n",
       " array([2.580827, 3.715335, 7.055679]),\n",
       " array([ 5.90124,  8.7522 , 22.7802 ]),\n",
       " array([21.77596, 31.7844 , 41.02902]),\n",
       " array([ 9.341   , 13.726976, 24.310856]),\n",
       " array([ 4.977656,  6.988055, 10.558345]),\n",
       " array([ 6.88727999, 10.05537   , 16.332995  ]),\n",
       " array([ 5.629021  ,  8.25629997, 13.391635  ]),\n",
       " array([ 5.61358023,  8.005013  , 12.130686  ]),\n",
       " array([ 6.124821,  8.921099, 11.242861]),\n",
       " array([ 6.803,  8.703, 11.922]),\n",
       " array([3.6001053, 4.5458841, 6.189392 , 7.743493 , 9.740486 ]),\n",
       " array([ 7.1334,  8.9187, 11.8981]),\n",
       " array([ 12.4417 ,  18.16406, 122.3874 ]),\n",
       " array([  5.859944,   8.13123 , 258.8     ]),\n",
       " array([ 8.1934719, 12.1097104, 20.4966197]),\n",
       " array([ 7.05246,  9.52355, 14.64558]),\n",
       " array([ 8.726   , 12.883   , 27.434389]),\n",
       " array([12.513   , 17.91323 , 25.216751]),\n",
       " array([ 4.17278,  6.25725, 12.51937, 18.7992 , 26.3162 , 39.5387 ]),\n",
       " array([ 4.30744 ,  5.904144, 18.6559  ]),\n",
       " array([ 9.20754 , 12.352446, 18.772866])]"
      ]
     },
     "execution_count": 2,
     "metadata": {},
     "output_type": "execute_result"
    }
   ],
   "source": [
    "plist = [] # master plist, where each entry will be [P1,P2,..., PN] for each sim\n",
    "for system in df['Host Name'].unique():\n",
    "    periods = df[df['Host Name']==system]['Orbital Period'].values\n",
    "    periods.sort()\n",
    "    plist.append(periods)\n",
    "plist\n",
    "# populate trios with get_trios from rori code, drop the ones where the inner is not less than 1.5\n"
   ]
  },
  {
   "cell_type": "code",
   "execution_count": 7,
   "id": "f5fe6b53",
   "metadata": {},
   "outputs": [
    {
     "data": {
      "text/latex": [
       "$\\displaystyle 49$"
      ],
      "text/plain": [
       "49"
      ]
     },
     "execution_count": 7,
     "metadata": {},
     "output_type": "execute_result"
    }
   ],
   "source": [
    "len(df['Host Name'].unique())"
   ]
  },
  {
   "cell_type": "code",
   "execution_count": 3,
   "id": "b28ca3c3",
   "metadata": {},
   "outputs": [
    {
     "data": {
      "text/latex": [
       "$\\displaystyle 58$"
      ],
      "text/plain": [
       "58"
      ]
     },
     "execution_count": 3,
     "metadata": {},
     "output_type": "execute_result"
    }
   ],
   "source": [
    "trios = dispersion.get_trios(Plist = plist)\n",
    "len(trios)"
   ]
  },
  {
   "cell_type": "code",
   "execution_count": 5,
   "id": "1e00c5ca",
   "metadata": {},
   "outputs": [
    {
     "data": {
      "text/latex": [
       "$\\displaystyle \\left( 0.302449556680029, \\  0.0180067880312394\\right)$"
      ],
      "text/plain": [
       "(0.3024495566800291, 0.01800678803123943)"
      ]
     },
     "execution_count": 5,
     "metadata": {},
     "output_type": "execute_result"
    }
   ],
   "source": [
    "dispersion.dispersion(trios=trios)"
   ]
  }
 ],
 "metadata": {
  "kernelspec": {
   "display_name": "Python 3 (ipykernel)",
   "language": "python",
   "name": "python3"
  },
  "language_info": {
   "codemirror_mode": {
    "name": "ipython",
    "version": 3
   },
   "file_extension": ".py",
   "mimetype": "text/x-python",
   "name": "python",
   "nbconvert_exporter": "python",
   "pygments_lexer": "ipython3",
   "version": "3.10.11"
  }
 },
 "nbformat": 4,
 "nbformat_minor": 5
}
