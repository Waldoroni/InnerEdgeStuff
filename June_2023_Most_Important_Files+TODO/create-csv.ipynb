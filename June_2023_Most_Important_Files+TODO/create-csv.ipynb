{
 "cells": [
  {
   "cell_type": "markdown",
   "id": "98fd415a",
   "metadata": {},
   "source": [
    "# Saving the values of period ratios from 1.1-1.5 from the NASA Exoplanet Archive to a csv\n",
    "We want to save planets that are in trios that have an inner compact period ratio (1.1-1.5 since those below 1.1 should be unstable) to match our simulations for multiplanet (>3) systems to a csv to use for our other notebooks! A trio is a group of three adjacent planets in a system. The period ratio between the outer period ratios can be anything as long as the inner is compact."
   ]
  },
  {
   "cell_type": "code",
   "execution_count": 3,
   "id": "f60ef7a1",
   "metadata": {},
   "outputs": [],
   "source": [
    "#Import Statements & Define Constants\n",
    "import pandas as pd\n",
    "# import numpy as np\n",
    "# import matplotlib.pyplot as plt\n",
    "# import scipy\n",
    "# import scipy.stats as stats\n",
    "# from scipy.stats import lognorm\n",
    "# from scipy.stats import ks_2samp\n",
    "# import math\n",
    "# import rebound\n",
    "# import random\n",
    "# from numpy.random import seed, random\n",
    "# from scipy.stats import rayleigh\n",
    "# from scipy.stats import norm\n",
    "# import itertools\n",
    "# from spock import FeatureClassifier\n",
    "# from decimal import Decimal\n",
    "# import pandas as pd\n",
    "from tqdm import tqdm\n",
    "# from matplotlib.ticker import EngFormatter\n",
    "# from scipy.stats import gaussian_kde\n",
    "# import matplotlib.pyplot as plt\n",
    "# import seaborn as sns\n",
    "\n",
    "\n",
    "# %matplotlib inline\n",
    "\n",
    "# fmodel = FeatureClassifier()\n",
    "# earth_mass = 5.97219*10**24\n",
    "# sun_mass = 1.981 * 10**30\n",
    "# mass_ratio = earth_mass/sun_mass"
   ]
  },
  {
   "cell_type": "code",
   "execution_count": 4,
   "id": "7a517d81",
   "metadata": {},
   "outputs": [
    {
     "name": "stderr",
     "output_type": "stream",
     "text": [
      "100%|█████████████████████████████████████████████████████| 3943/3943 [00:08<00:00, 482.92it/s]\n"
     ]
    },
    {
     "data": {
      "text/html": [
       "<div>\n",
       "<style scoped>\n",
       "    .dataframe tbody tr th:only-of-type {\n",
       "        vertical-align: middle;\n",
       "    }\n",
       "\n",
       "    .dataframe tbody tr th {\n",
       "        vertical-align: top;\n",
       "    }\n",
       "\n",
       "    .dataframe thead th {\n",
       "        text-align: right;\n",
       "    }\n",
       "</style>\n",
       "<table border=\"1\" class=\"dataframe\">\n",
       "  <thead>\n",
       "    <tr style=\"text-align: right;\">\n",
       "      <th></th>\n",
       "      <th>Planet Name</th>\n",
       "      <th>Host Name</th>\n",
       "      <th>Orbital Period</th>\n",
       "      <th>Discovery Method</th>\n",
       "      <th>Semi-Major Axis (AU)</th>\n",
       "      <th>Eccentricity</th>\n",
       "      <th>Radius (R_earth)</th>\n",
       "      <th>Mass or Mass * sin(i) (M_earth)</th>\n",
       "      <th>Stellar Mass (M_sun)</th>\n",
       "    </tr>\n",
       "  </thead>\n",
       "  <tbody>\n",
       "    <tr>\n",
       "      <th>17</th>\n",
       "      <td>2MASS J19383260+4603591 b</td>\n",
       "      <td>2MASS J19383260+4603591</td>\n",
       "      <td>406.0000</td>\n",
       "      <td>Eclipse Timing Variations</td>\n",
       "      <td>0.9200</td>\n",
       "      <td>0.330</td>\n",
       "      <td>13.4</td>\n",
       "      <td>603.8770</td>\n",
       "      <td>0.48</td>\n",
       "    </tr>\n",
       "    <tr>\n",
       "      <th>22</th>\n",
       "      <td>47 UMa b</td>\n",
       "      <td>47 UMa</td>\n",
       "      <td>1078.0000</td>\n",
       "      <td>Radial Velocity</td>\n",
       "      <td>2.1000</td>\n",
       "      <td>0.032</td>\n",
       "      <td>13.2</td>\n",
       "      <td>804.0800</td>\n",
       "      <td>1.06</td>\n",
       "    </tr>\n",
       "    <tr>\n",
       "      <th>23</th>\n",
       "      <td>47 UMa c</td>\n",
       "      <td>47 UMa</td>\n",
       "      <td>2391.0000</td>\n",
       "      <td>Radial Velocity</td>\n",
       "      <td>3.6000</td>\n",
       "      <td>0.098</td>\n",
       "      <td>14.2</td>\n",
       "      <td>171.6210</td>\n",
       "      <td>1.06</td>\n",
       "    </tr>\n",
       "    <tr>\n",
       "      <th>24</th>\n",
       "      <td>47 UMa d</td>\n",
       "      <td>47 UMa</td>\n",
       "      <td>14002.0000</td>\n",
       "      <td>Radial Velocity</td>\n",
       "      <td>11.6000</td>\n",
       "      <td>0.160</td>\n",
       "      <td>13.5</td>\n",
       "      <td>521.2200</td>\n",
       "      <td>1.06</td>\n",
       "    </tr>\n",
       "    <tr>\n",
       "      <th>27</th>\n",
       "      <td>55 Cnc b</td>\n",
       "      <td>55 Cnc</td>\n",
       "      <td>14.6516</td>\n",
       "      <td>Radial Velocity</td>\n",
       "      <td>0.1134</td>\n",
       "      <td>0.000</td>\n",
       "      <td>13.9</td>\n",
       "      <td>263.9785</td>\n",
       "      <td>0.91</td>\n",
       "    </tr>\n",
       "  </tbody>\n",
       "</table>\n",
       "</div>"
      ],
      "text/plain": [
       "                  Planet Name                Host Name  Orbital Period  \\\n",
       "17  2MASS J19383260+4603591 b  2MASS J19383260+4603591        406.0000   \n",
       "22                   47 UMa b                   47 UMa       1078.0000   \n",
       "23                   47 UMa c                   47 UMa       2391.0000   \n",
       "24                   47 UMa d                   47 UMa      14002.0000   \n",
       "27                   55 Cnc b                   55 Cnc         14.6516   \n",
       "\n",
       "             Discovery Method  Semi-Major Axis (AU)  Eccentricity  \\\n",
       "17  Eclipse Timing Variations                0.9200         0.330   \n",
       "22            Radial Velocity                2.1000         0.032   \n",
       "23            Radial Velocity                3.6000         0.098   \n",
       "24            Radial Velocity               11.6000         0.160   \n",
       "27            Radial Velocity                0.1134         0.000   \n",
       "\n",
       "    Radius (R_earth)  Mass or Mass * sin(i) (M_earth)  Stellar Mass (M_sun)  \n",
       "17              13.4                         603.8770                  0.48  \n",
       "22              13.2                         804.0800                  1.06  \n",
       "23              14.2                         171.6210                  1.06  \n",
       "24              13.5                         521.2200                  1.06  \n",
       "27              13.9                         263.9785                  0.91  "
      ]
     },
     "execution_count": 4,
     "metadata": {},
     "output_type": "execute_result"
    }
   ],
   "source": [
    "#MAKE INITIAL DATA FRAME\n",
    "\n",
    "df = pd.read_csv('20230302_all_exoplanets.csv')\n",
    "\n",
    "# Create an array of all host star/system names\n",
    "hosts = df['hostname'].unique()\n",
    "\n",
    "# For each planetary system...\n",
    "for host in tqdm(hosts):\n",
    "    # If the system contains less than 3 planets...\n",
    "    if (df['hostname'] == host).sum() < 3:\n",
    "        # Get the row indices of the system's planets\n",
    "        index = df[df['hostname']==host].index\n",
    "        # Remove those rows from our DataFrame\n",
    "        df.drop(index, inplace=True)\n",
    "\n",
    "# Data that might be useful to us\n",
    "planet_data = pd.DataFrame()\n",
    "planet_data[\"Planet Name\"] = df['pl_name']\n",
    "planet_data[\"Host Name\"] = df['hostname']\n",
    "planet_data[\"Orbital Period\"] = df['pl_orbper']\n",
    "planet_data[\"Discovery Method\"] = df['discoverymethod']\n",
    "planet_data[\"Semi-Major Axis (AU)\"] = df['pl_orbsmax']\n",
    "planet_data[\"Eccentricity\"] = df['pl_orbeccen']\n",
    "planet_data[\"Radius (R_earth)\"] = df['pl_rade']\n",
    "planet_data[\"Mass or Mass * sin(i) (M_earth)\"] = df['pl_bmasse']\n",
    "planet_data[\"Stellar Mass (M_sun)\"] = df['st_mass']\n",
    "planet_data.to_csv('planet_data.csv')\n",
    "df = pd.read_csv('planet_data.csv', index_col=0)\n",
    "df.head()"
   ]
  },
  {
   "cell_type": "code",
   "execution_count": 5,
   "id": "ccbaa169",
   "metadata": {},
   "outputs": [
    {
     "data": {
      "text/plain": [
       "1041"
      ]
     },
     "execution_count": 5,
     "metadata": {},
     "output_type": "execute_result"
    }
   ],
   "source": [
    "df = pd.read_csv('planet_data.csv', index_col=0)\n",
    "len(df)"
   ]
  },
  {
   "cell_type": "code",
   "execution_count": 6,
   "id": "cde3efbd",
   "metadata": {},
   "outputs": [],
   "source": [
    "# GET RID OF ONES THAT DON'T HAVE INNER PRATIO 1.1-1.5\n",
    "df['Keep'] = False\n",
    "\n",
    "# for every system in planet_data\n",
    "for system in df['Host Name'].unique():\n",
    "    # new system df of JUST planets from that system\n",
    "    system_df = df[df['Host Name'] == system]\n",
    "    # sort them in order of orbital period lowest to highest\n",
    "    system_sorted = system_df.sort_values(by='Orbital Period')\n",
    "    \n",
    "    Nplanets = system_df.shape[0] # number of planets in system\n",
    "    Ntrios = Nplanets - 2 # number of trios, three adjacent planet groupings\n",
    "    \n",
    "    # for every trio\n",
    "    for q in range(Ntrios):\n",
    "        P1 = system_sorted.iloc[q]['Orbital Period']\n",
    "        P2 = system_sorted.iloc[q+1]['Orbital Period']\n",
    "        P3 = system_sorted.iloc[q+2]['Orbital Period']\n",
    "        \n",
    "        # if the inner period ratio is 1.1-1.5\n",
    "        if P2/P1 > 1.1 and P2/P1 < 1.5:\n",
    "            # keep these planets in dataframe\n",
    "            df.loc[system_sorted.iloc[q].name, 'Keep'] = True\n",
    "            df.loc[system_sorted.iloc[q+1].name, 'Keep'] = True\n",
    "            df.loc[system_sorted.iloc[q+2].name, 'Keep'] = True\n",
    "            "
   ]
  },
  {
   "cell_type": "code",
   "execution_count": 7,
   "id": "447b4e91",
   "metadata": {},
   "outputs": [
    {
     "name": "stdout",
     "output_type": "stream",
     "text": [
      "161\n"
     ]
    },
    {
     "data": {
      "text/html": [
       "<div>\n",
       "<style scoped>\n",
       "    .dataframe tbody tr th:only-of-type {\n",
       "        vertical-align: middle;\n",
       "    }\n",
       "\n",
       "    .dataframe tbody tr th {\n",
       "        vertical-align: top;\n",
       "    }\n",
       "\n",
       "    .dataframe thead th {\n",
       "        text-align: right;\n",
       "    }\n",
       "</style>\n",
       "<table border=\"1\" class=\"dataframe\">\n",
       "  <thead>\n",
       "    <tr style=\"text-align: right;\">\n",
       "      <th></th>\n",
       "      <th>Planet Name</th>\n",
       "      <th>Host Name</th>\n",
       "      <th>Orbital Period</th>\n",
       "      <th>Discovery Method</th>\n",
       "      <th>Semi-Major Axis (AU)</th>\n",
       "      <th>Eccentricity</th>\n",
       "      <th>Radius (R_earth)</th>\n",
       "      <th>Mass or Mass * sin(i) (M_earth)</th>\n",
       "      <th>Stellar Mass (M_sun)</th>\n",
       "    </tr>\n",
       "  </thead>\n",
       "  <tbody>\n",
       "    <tr>\n",
       "      <th>119</th>\n",
       "      <td>DMPP-1 b</td>\n",
       "      <td>DMPP-1</td>\n",
       "      <td>18.570</td>\n",
       "      <td>Radial Velocity</td>\n",
       "      <td>0.1462</td>\n",
       "      <td>0.083</td>\n",
       "      <td>5.29</td>\n",
       "      <td>24.27</td>\n",
       "      <td>1.21</td>\n",
       "    </tr>\n",
       "    <tr>\n",
       "      <th>120</th>\n",
       "      <td>DMPP-1 c</td>\n",
       "      <td>DMPP-1</td>\n",
       "      <td>6.584</td>\n",
       "      <td>Radial Velocity</td>\n",
       "      <td>0.0733</td>\n",
       "      <td>0.057</td>\n",
       "      <td>3.06</td>\n",
       "      <td>9.60</td>\n",
       "      <td>1.21</td>\n",
       "    </tr>\n",
       "    <tr>\n",
       "      <th>122</th>\n",
       "      <td>DMPP-1 e</td>\n",
       "      <td>DMPP-1</td>\n",
       "      <td>5.516</td>\n",
       "      <td>Radial Velocity</td>\n",
       "      <td>0.0651</td>\n",
       "      <td>0.070</td>\n",
       "      <td>1.86</td>\n",
       "      <td>4.13</td>\n",
       "      <td>1.21</td>\n",
       "    </tr>\n",
       "    <tr>\n",
       "      <th>194</th>\n",
       "      <td>GJ 180 b</td>\n",
       "      <td>GJ 180</td>\n",
       "      <td>17.133</td>\n",
       "      <td>Radial Velocity</td>\n",
       "      <td>0.0920</td>\n",
       "      <td>0.070</td>\n",
       "      <td>2.43</td>\n",
       "      <td>6.49</td>\n",
       "      <td>0.43</td>\n",
       "    </tr>\n",
       "    <tr>\n",
       "      <th>195</th>\n",
       "      <td>GJ 180 c</td>\n",
       "      <td>GJ 180</td>\n",
       "      <td>24.329</td>\n",
       "      <td>Radial Velocity</td>\n",
       "      <td>0.1290</td>\n",
       "      <td>0.090</td>\n",
       "      <td>2.41</td>\n",
       "      <td>6.40</td>\n",
       "      <td>0.43</td>\n",
       "    </tr>\n",
       "  </tbody>\n",
       "</table>\n",
       "</div>"
      ],
      "text/plain": [
       "    Planet Name Host Name  Orbital Period Discovery Method  \\\n",
       "119    DMPP-1 b    DMPP-1          18.570  Radial Velocity   \n",
       "120    DMPP-1 c    DMPP-1           6.584  Radial Velocity   \n",
       "122    DMPP-1 e    DMPP-1           5.516  Radial Velocity   \n",
       "194    GJ 180 b    GJ 180          17.133  Radial Velocity   \n",
       "195    GJ 180 c    GJ 180          24.329  Radial Velocity   \n",
       "\n",
       "     Semi-Major Axis (AU)  Eccentricity  Radius (R_earth)  \\\n",
       "119                0.1462         0.083              5.29   \n",
       "120                0.0733         0.057              3.06   \n",
       "122                0.0651         0.070              1.86   \n",
       "194                0.0920         0.070              2.43   \n",
       "195                0.1290         0.090              2.41   \n",
       "\n",
       "     Mass or Mass * sin(i) (M_earth)  Stellar Mass (M_sun)  \n",
       "119                            24.27                  1.21  \n",
       "120                             9.60                  1.21  \n",
       "122                             4.13                  1.21  \n",
       "194                             6.49                  0.43  \n",
       "195                             6.40                  0.43  "
      ]
     },
     "execution_count": 7,
     "metadata": {},
     "output_type": "execute_result"
    }
   ],
   "source": [
    "# create new data frame with trios that have the inner pratio 1.1-1.5\n",
    "compact_df = df[df['Keep'] == True]\n",
    "\n",
    "# get rid of 'keep' column since these would all be true and it's not important anymore\n",
    "del compact_df['Keep']\n",
    "\n",
    "print(len(compact_df))\n",
    "\n",
    "compact_df.to_csv('compact_planet_data.csv')\n",
    "\n",
    "df = pd.read_csv('compact_planet_data.csv', index_col=0)\n",
    "df.head()"
   ]
  },
  {
   "cell_type": "code",
   "execution_count": 5,
   "id": "60d6277b",
   "metadata": {},
   "outputs": [],
   "source": [
    "# save only compact pratios \n",
    "pratios_observed = []\n",
    "\n",
    "# for every system in the dataframe with only planets with inner pratio 1.1-1.5\n",
    "for system in df['Host Name'].unique():\n",
    "    # make new df of just that system's planets\n",
    "    system_df = df[df['Host Name'] == system]\n",
    "    # sort least to greatest orbital period\n",
    "    system_sorted = system_df.sort_values(by='Orbital Period')\n",
    "    Nplanets = system_df.shape[0] # number of planets in system\n",
    "    \n",
    "    # for every planet pair\n",
    "    for z in range(Nplanets-1):\n",
    "        # find periods\n",
    "        P1 = system_sorted.iloc[z]['Orbital Period']\n",
    "        P2 = system_sorted.iloc[z+1]['Orbital Period']\n",
    "        # if the pratio is compact, add it to array\n",
    "        if P2/P1 > 1.1 and P2/P1 < 1.5:\n",
    "            pratios_observed.append(P2/P1)"
   ]
  },
  {
   "cell_type": "markdown",
   "id": "dba7d72f",
   "metadata": {},
   "source": [
    "# set up for dispersion"
   ]
  },
  {
   "cell_type": "code",
   "execution_count": 294,
   "id": "36b65fd2",
   "metadata": {},
   "outputs": [
    {
     "data": {
      "text/plain": [
       "[array([ 5.516,  6.584, 18.57 ]),\n",
       " array([ 17.133,  24.329, 106.3  ]),\n",
       " array([28.14 , 39.026, 62.24 ]),\n",
       " array([14.175685, 19.590025, 29.54115 ]),\n",
       " array([ 28.579743,  38.353037, 101.12    ]),\n",
       " array([ 5.75999,  7.28243, 10.86499, 25.1967 ]),\n",
       " array([12.1621839, 17.667087 , 29.79749  ]),\n",
       " array([ 5.24 ,  7.775, 10.115]),\n",
       " array([4.528598, 6.131243, 9.327527]),\n",
       " array([ 7.138048, 10.45582 , 14.76289 ]),\n",
       " array([ 4.44117,  6.42904, 14.09189]),\n",
       " array([ 6.679582,  9.715043, 13.62749 ]),\n",
       " array([ 5.577212,  7.760178, 15.189034]),\n",
       " array([0.2197 , 0.32528, 0.81161]),\n",
       " array([  7.008151,   8.719375,  14.44912 ,  91.93913 , 124.9144  ,\n",
       "        210.60697 ]),\n",
       " array([ 5.28696,  7.07142, 10.3117 , 16.1457 ]),\n",
       " array([ 10.3039,  13.0241,  22.6845,  31.9996,  46.6888, 118.3807]),\n",
       " array([3.26663995, 4.27225018, 5.45298175]),\n",
       " array([10.3134, 13.7815, 23.0923]),\n",
       " array([2.89223021, 3.95116882, 5.10115756, 5.99273738]),\n",
       " array([ 6.195469,  8.348125, 13.767102]),\n",
       " array([ 7.466623, 11.131786, 16.259458]),\n",
       " array([3.88689525, 5.374943  , 8.586004  ]),\n",
       " array([ 7.38449,  9.84564, 14.78869]),\n",
       " array([3.940997, 5.349555, 8.109044]),\n",
       " array([12.28    , 17.2559  , 46.827915]),\n",
       " array([ 5.24972541,  7.41086267, 10.43547805]),\n",
       " array([ 9.220524, 13.638723, 24.806   ]),\n",
       " array([2.580827, 3.715335, 7.055679]),\n",
       " array([ 5.90124,  8.7522 , 22.7802 ]),\n",
       " array([21.77596, 31.7844 , 41.02902]),\n",
       " array([ 9.341   , 13.726976, 24.310856]),\n",
       " array([ 4.977656,  6.988055, 10.558345]),\n",
       " array([ 6.88727999, 10.05537   , 16.332995  ]),\n",
       " array([ 5.629021  ,  8.25629997, 13.391635  ]),\n",
       " array([ 5.61358023,  8.005013  , 12.130686  ]),\n",
       " array([ 6.124821,  8.921099, 11.242861]),\n",
       " array([ 6.803,  8.703, 11.922]),\n",
       " array([3.6001053, 4.5458841, 6.189392 , 7.743493 , 9.740486 ]),\n",
       " array([ 7.1334,  8.9187, 11.8981]),\n",
       " array([ 12.4417 ,  18.16406, 122.3874 ]),\n",
       " array([  5.859944,   8.13123 , 258.8     ]),\n",
       " array([ 8.1934719, 12.1097104, 20.4966197]),\n",
       " array([ 7.05246,  9.52355, 14.64558]),\n",
       " array([ 8.726   , 12.883   , 27.434389]),\n",
       " array([12.513   , 17.91323 , 25.216751]),\n",
       " array([ 4.17278,  6.25725, 12.51937, 18.7992 , 26.3162 , 39.5387 ]),\n",
       " array([ 4.30744 ,  5.904144, 18.6559  ]),\n",
       " array([ 9.20754 , 12.352446, 18.772866])]"
      ]
     },
     "execution_count": 294,
     "metadata": {},
     "output_type": "execute_result"
    }
   ],
   "source": [
    "plist = [] # master plist, where each entry will be [P1,P2,..., PN] for each sim\n",
    "for system in df['Host Name'].unique():\n",
    "    periods = df[df['Host Name']==system]['Orbital Period'].values\n",
    "    periods.sort()\n",
    "    plist.append(periods)\n",
    "plist\n",
    "# populate trios with get_trios from rori code, drop the ones where the inner is not less than 1.5"
   ]
  },
  {
   "cell_type": "code",
   "execution_count": 295,
   "id": "59f31b02",
   "metadata": {},
   "outputs": [],
   "source": [
    "# rori function\n",
    "def p_ratios(P=None, logP=None, sim=None, log=True):\n",
    "    \"\"\"returns either the log or the normal period ratios of a system\n",
    "       Param: a list of periods, log a, a, or a rebound sim\n",
    "    \"\"\"\n",
    "    if logP != None:\n",
    "        logpr = [logP[i+1]-logP[i] for i in range(len(logP)-1)]\n",
    "        if log:\n",
    "            return logpr\n",
    "        else:\n",
    "            return [10**x for x in logpr]\n",
    "    if sim != None:\n",
    "        ps = sim.particles[1:]\n",
    "        P = [ps[i].P for i in range(len(ps))]   \n",
    "\n",
    "    if log:\n",
    "        return [np.log10(P[i+1]/P[i]) for i in range(len(P)-1)]\n",
    "    else:\n",
    "        return [P[i+1]/P[i] for i in range(len(P)-1)]\n",
    "    \n",
    "def get_trios(Plist=None, P=None, filter4=False, stable=None):\n",
    "    \"\"\"returns a tuple containing all the trios of adjacent planets \n",
    "        in population (lol of periods) of systems.\n",
    "       optional param: stable: a list of booleans corresponding to\n",
    "        the stability of each system. Returns the corresponding stability \n",
    "        of each trio\n",
    "    \"\"\"\n",
    "    trios = []\n",
    "    s = []\n",
    "    \n",
    "    if P!=None:\n",
    "        Plist = [P]\n",
    "        \n",
    "    if len(Plist)==0:\n",
    "        return []\n",
    "    \n",
    "    for i in range(len(Plist)):\n",
    "        P = Plist[i]\n",
    "        pr = p_ratios(P=P, log=False)\n",
    "        for j in range(0, len(pr)-1):\n",
    "            if P[j+1]/P[j]<1.5 and P[j+1]/P[j]>1.1:\n",
    "                trios += [P[j:j+3]]\n",
    "                if stable != None:\n",
    "                    s += [stable[i]]\n",
    "\n",
    "    if stable!=None:\n",
    "        return s\n",
    "    return trios\n"
   ]
  },
  {
   "cell_type": "code",
   "execution_count": 296,
   "id": "aeb0629b",
   "metadata": {},
   "outputs": [
    {
     "data": {
      "text/latex": [
       "$\\displaystyle 58$"
      ],
      "text/plain": [
       "58"
      ]
     },
     "execution_count": 296,
     "metadata": {},
     "output_type": "execute_result"
    }
   ],
   "source": [
    "trios = get_trios(Plist = plist)\n",
    "len(trios)"
   ]
  },
  {
   "cell_type": "markdown",
   "id": "99ee3624",
   "metadata": {},
   "source": [
    "## Dispersion\n",
    "\n",
    "$\\sigma= \\sqrt{\\frac{1}{2}\\sum_{j=1}^{2}{{(s_{j-1, j}-\\overline{s})^2}}}$\n",
    "\n",
    "Dispersion of the ith trio\n",
    "$D_i = \\frac{\\sigma_{i}}{\\overline{s}_i}$\n",
    "\n",
    "Average dispersion $D = \\sqrt{\\frac{1}{N_{\\mathrm{trios}}}\\sum_{i=1}^{N_{\\mathrm{trios}}}D_i^2}$\n",
    "\n",
    "sj is log of period ratio"
   ]
  },
  {
   "cell_type": "code",
   "execution_count": 297,
   "id": "2e6b5dba",
   "metadata": {},
   "outputs": [
    {
     "name": "stdout",
     "output_type": "stream",
     "text": [
      "[02:52:59] WARNING: /croot/xgboost-split_1675457761144/work/src/learner.cc:888: Found JSON model saved before XGBoost 1.6, please save the model using current version again. The support for old JSON model will be discontinued in XGBoost 2.3.\n"
     ]
    }
   ],
   "source": [
    "import pandas as pd\n",
    "from matplotlib.ticker import ScalarFormatter, NullFormatter\n",
    "import matplotlib.pyplot as plt\n",
    "import numpy as np\n",
    "from numpy import random\n",
    "from scipy.stats import pearsonr\n",
    "from scipy.stats import linregress\n",
    "import rebound\n",
    "from IPython.display import display, clear_output\n",
    "\n",
    "from spock import FeatureClassifier\n",
    "model = FeatureClassifier()\n",
    "\n",
    "\n",
    "#from ipynb.fs.full.functions import *"
   ]
  },
  {
   "cell_type": "code",
   "execution_count": 463,
   "id": "af9c3a95",
   "metadata": {},
   "outputs": [],
   "source": [
    "def dispersion(trios=None, systems=None, filter4=False, ddof=1): # input systems: orbital periods\n",
    "    \"\"\"returns the dispersion and error of a list of \n",
    "       trios as a tuple.\n",
    "       For a single trio, only returns the dispersion\n",
    "    \"\"\"\n",
    "    if systems != None:\n",
    "        trios = get_trios(systems, filter4=filter4)\n",
    "    \n",
    "    if len(trios)==0:\n",
    "        return 0, 0\n",
    "    \n",
    "    rel_var = []\n",
    "    for t in trios:\n",
    "        logpr = p_ratios(P=t, log=True)\n",
    "        mu = np.mean(logpr)\n",
    "        rel_var += [np.var(logpr)/mu**2]\n",
    "    D = np.sqrt(np.mean(rel_var))\n",
    "    if len(trios)>1: \n",
    "        error = np.std(rel_var, ddof=ddof)/np.sqrt(len(trios))#/(2*D)\n",
    "    else:\n",
    "        error = 10\n",
    "    return D, error"
   ]
  },
  {
   "cell_type": "code",
   "execution_count": 517,
   "id": "eaf4aa02",
   "metadata": {},
   "outputs": [],
   "source": [
    "trios = get_trios(Plist = plist)\n",
    "array = []\n",
    "for i in range(58):\n",
    "    array.append(dispersion(trios=[trios[i]])[0])\n"
   ]
  },
  {
   "cell_type": "code",
   "execution_count": 524,
   "id": "31f6c4a3",
   "metadata": {},
   "outputs": [
    {
     "name": "stdout",
     "output_type": "stream",
     "text": [
      "0.24055875772573934\n"
     ]
    },
    {
     "data": {
      "text/latex": [
       "$\\displaystyle 0.184923818748444$"
      ],
      "text/plain": [
       "0.18492381874844405"
      ]
     },
     "execution_count": 524,
     "metadata": {},
     "output_type": "execute_result"
    }
   ],
   "source": [
    "import statistics\n",
    "print(statistics.mean(array))\n",
    "statistics.stdev(array)"
   ]
  },
  {
   "cell_type": "code",
   "execution_count": 464,
   "id": "0af9df86",
   "metadata": {},
   "outputs": [
    {
     "data": {
      "text/latex": [
       "$\\displaystyle \\left( 0.302449556680029, \\  0.0180067880312394\\right)$"
      ],
      "text/plain": [
       "(0.3024495566800291, 0.01800678803123943)"
      ]
     },
     "execution_count": 464,
     "metadata": {},
     "output_type": "execute_result"
    }
   ],
   "source": [
    "stdev = dispersion(trios=get_trios(Plist = plist))\n",
    "stdev"
   ]
  },
  {
   "cell_type": "code",
   "execution_count": null,
   "id": "19ed68a9",
   "metadata": {},
   "outputs": [],
   "source": [
    "# check that the lengths of compact_df and these trios match, they do :)\n",
    "trios = get_trios(Plist = plist)\n",
    "flattened_list = [item for sublist in trios for item in sublist]\n",
    "\n",
    "# Find unique values\n",
    "unique_values = set(flattened_list)\n",
    "\n",
    "# Get the count of unique values\n",
    "count_unique_values = len(unique_values)\n",
    "\n",
    "print(f\"There are {count_unique_values} unique values\")"
   ]
  },
  {
   "cell_type": "markdown",
   "id": "278fba57",
   "metadata": {},
   "source": [
    "# (0.302449556680029, 0.0180067880312394)"
   ]
  },
  {
   "cell_type": "code",
   "execution_count": 497,
   "id": "792710ad",
   "metadata": {},
   "outputs": [],
   "source": [
    "# def simulate_trios(D):\n",
    "#     p1period = 1\n",
    "#     p2period = np.random.uniform(1.1,1.5)\n",
    "#     p3period = 0\n",
    "#     while p3period < p2period:\n",
    "#         s12= math.log10(p2period/p1period) \n",
    "#         s23= np.random.normal(np.log10(1.3),D*np.log10(1.3))\n",
    "#         print(s12, D*s12, s23)\n",
    "#         p3period = p2period*10**s23\n",
    "#     return [p1period,p2period,p3period]\n",
    "\n",
    "\n",
    "# trioslist=[simulate_trios(.302449556680029) for i in range(0,1000)]"
   ]
  },
  {
   "cell_type": "code",
   "execution_count": 337,
   "id": "9c089781",
   "metadata": {},
   "outputs": [
    {
     "data": {
      "text/latex": [
       "$\\displaystyle 0.0858484112906573$"
      ],
      "text/plain": [
       "0.08584841129065729"
      ]
     },
     "execution_count": 337,
     "metadata": {},
     "output_type": "execute_result"
    }
   ],
   "source": [
    "np.random.normal(.11,.3*.11)"
   ]
  },
  {
   "cell_type": "code",
   "execution_count": 338,
   "id": "53b65265",
   "metadata": {},
   "outputs": [
    {
     "data": {
      "text/latex": [
       "$\\displaystyle \\left( 0.244281292118529, \\  0.00506660160768966\\right)$"
      ],
      "text/plain": [
       "(0.24428129211852947, 0.005066601607689658)"
      ]
     },
     "execution_count": 338,
     "metadata": {},
     "output_type": "execute_result"
    }
   ],
   "source": [
    "dispersion(trios=trioslist)"
   ]
  },
  {
   "cell_type": "markdown",
   "id": "a7d47378",
   "metadata": {},
   "source": [
    "# done dispersion"
   ]
  },
  {
   "cell_type": "code",
   "execution_count": 350,
   "id": "a11d90c7",
   "metadata": {},
   "outputs": [],
   "source": [
    "# all period ratios that have inner 1.1 - 1.5\n",
    "pratios_observed = np.asarray(pratios_observed)\n",
    "pratios_observed.sort()\n",
    "observed_period_cdf = np.cumsum(pratios_observed)/pratios_observed.sum()"
   ]
  },
  {
   "cell_type": "code",
   "execution_count": 352,
   "id": "e3e4d02e",
   "metadata": {},
   "outputs": [
    {
     "data": {
      "text/latex": [
       "$\\displaystyle 71$"
      ],
      "text/plain": [
       "71"
      ]
     },
     "execution_count": 352,
     "metadata": {},
     "output_type": "execute_result"
    }
   ],
   "source": [
    "len(pratios_observed)"
   ]
  }
 ],
 "metadata": {
  "kernelspec": {
   "display_name": "Python 3 (ipykernel)",
   "language": "python",
   "name": "python3"
  },
  "language_info": {
   "codemirror_mode": {
    "name": "ipython",
    "version": 3
   },
   "file_extension": ".py",
   "mimetype": "text/x-python",
   "name": "python",
   "nbconvert_exporter": "python",
   "pygments_lexer": "ipython3",
   "version": "3.10.11"
  }
 },
 "nbformat": 4,
 "nbformat_minor": 5
}
